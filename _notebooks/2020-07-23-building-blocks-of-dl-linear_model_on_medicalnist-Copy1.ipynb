{
 "cells": [
  {
   "cell_type": "markdown",
   "metadata": {},
   "source": [
    "# The building blocks of DL 2\n",
    "\n",
    "> Simplest Neural Network: linear layer with activation function\n",
    "\n",
    "- toc: false \n",
    "- badges: true\n",
    "- comments: true\n",
    "- categories: [medicalnist, mnist, basic]"
   ]
  },
  {
   "cell_type": "markdown",
   "metadata": {},
   "source": [
    "In the [previous post](https://ml4med.github.io/blog/basic/sgd/2020/07/20/building-blocks-of-dl-sgd.html) I've explained what is the most important concept in neural networks - technique that allows us to incrementally find minimum of a function. This is called Gradient Descent algorithm!\n",
    "\n",
    "In this post I will build on this concept and show you how to create a basic linear model to predict what is on a medical image!"
   ]
  },
  {
   "cell_type": "markdown",
   "metadata": {},
   "source": [
    "### Download data\n",
    "\n",
    "As in the [first post](https://ml4med.github.io/blog/medicalnist/mnist/basic/2020/06/19/fist_post.html) showing how to build medical image recognition with pure statistics, we need to download data first. For some basic description of how the data looks like, see that [first post](https://ml4med.github.io/blog/medicalnist/mnist/basic/2020/06/19/fist_post.html) first ;)"
   ]
  },
  {
   "cell_type": "code",
   "execution_count": 1,
   "metadata": {},
   "outputs": [
    {
     "name": "stdout",
     "output_type": "stream",
     "text": [
      "Cloning into 'Medical-MNIST-Classification'...\n",
      "remote: Enumerating objects: 58532, done.\u001b[K\n",
      "remote: Total 58532 (delta 0), reused 0 (delta 0), pack-reused 58532\u001b[K\n",
      "Receiving objects: 100% (58532/58532), 77.86 MiB | 20.76 MiB/s, done.\n",
      "Resolving deltas: 100% (506/506), done.\n",
      "Checking connectivity... done.\n",
      "Checking out files: 100% (58959/58959), done.\n"
     ]
    }
   ],
   "source": [
    "! git clone https://github.com/apolanco3225/Medical-MNIST-Classification.git\n",
    "! mv Medical-MNIST-Classification/resized/ ./medical_mnist\n",
    "! rm -rf Medical-MNIST-Classification"
   ]
  },
  {
   "cell_type": "code",
   "execution_count": 2,
   "metadata": {},
   "outputs": [],
   "source": [
    "from pathlib import Path\n",
    "\n",
    "PATH = Path(\"medical_mnist/\")"
   ]
  },
  {
   "cell_type": "markdown",
   "metadata": {},
   "source": [
    "We have much more powerful tools now, so we will deal with all 6 classes now, but first need to prepare data:\n",
    " - all data needs to be numerical\n",
    " - it needs to be in arrays\n",
    " - it needs to be labeled"
   ]
  },
  {
   "cell_type": "code",
   "execution_count": 3,
   "metadata": {},
   "outputs": [
    {
     "data": {
      "text/plain": [
       "['AbdomenCT', 'BreastMRI', 'CXR', 'ChestCT', 'Hand', 'HeadCT']"
      ]
     },
     "execution_count": 3,
     "metadata": {},
     "output_type": "execute_result"
    }
   ],
   "source": [
    "classes = !ls {PATH}\n",
    "classes"
   ]
  }
 ],
 "metadata": {
  "kernelspec": {
   "display_name": "Python 3",
   "language": "python",
   "name": "python3"
  },
  "language_info": {
   "codemirror_mode": {
    "name": "ipython",
    "version": 3
   },
   "file_extension": ".py",
   "mimetype": "text/x-python",
   "name": "python",
   "nbconvert_exporter": "python",
   "pygments_lexer": "ipython3",
   "version": "3.7.6"
  }
 },
 "nbformat": 4,
 "nbformat_minor": 4
}
